{
 "cells": [
  {
   "cell_type": "code",
   "execution_count": 14,
   "id": "d1c22158",
   "metadata": {},
   "outputs": [],
   "source": [
    "import pandas as pd\n",
    "import numpy as np\n",
    "from rcv_distances.dist_analysis.distance import DistanceSim, kendall_tau\n",
    "from rcv_distances.dist_analysis.rcv_elections import rcvElections"
   ]
  },
  {
   "cell_type": "code",
   "execution_count": 2,
   "id": "0ddfe751",
   "metadata": {},
   "outputs": [],
   "source": [
    "mn_ballots= pd.read_csv('/Users/emariedelanuez/Downloads/minneopolis_data_stv.csv')"
   ]
  },
  {
   "cell_type": "code",
   "execution_count": 3,
   "id": "0d935d4f",
   "metadata": {},
   "outputs": [],
   "source": [
    "#only select the columns that matter\n",
    "mn_ballots = mn_ballots[mn_ballots.columns[2:5]]\n",
    "#Convert columns to list of lists one list is one voter\n",
    "mn_ballot_lst = mn_ballots.values.tolist()\n",
    "#print(mn_ballots)\n",
    "#Generate list of unique candidates\n",
    "mn_cands = mn_ballots[mn_ballots.columns[0]].unique()\n"
   ]
  },
  {
   "cell_type": "code",
   "execution_count": 5,
   "id": "48b88578",
   "metadata": {},
   "outputs": [
    {
     "name": "stdout",
     "output_type": "stream",
     "text": [
      "38\n",
      "36\n",
      "['BETSY HODGES', 'MARK ANDREW', 'DON SAMUELS', 'CAM WINTON', 'JACKIE CHERRYHOMES', 'BOB FINE', 'DAN COHEN', 'undervote', 'STEPHANIE WOODRUFF', 'MARK V ANDERSON', 'DOUG MANN', 'OLE SAVIOR', 'JAMES EVERETT', 'ALICIA K. BENNETT', 'ABDUL M RAHAMAN \"THE ROCK\"', 'CAPTAIN JACK SPARROW', 'CHRISTOPHER CLARK', 'TONY LANE', 'JAYMIE KELLY', 'MIKE GOULD', 'KURTIS W. HANNA', 'CHRISTOPHER ROBIN ZIMMERMAN', 'JEFFREY ALAN WAGNER', 'NEAL BAXTER', 'TROY BENJEGERDES', 'GREGG A. IVERSON', 'MERRILL ANDERSON', 'JOSHUA REA', 'UWI', 'BILL KAHN', 'JOHN LESLIE HARTWIG', 'overvote', 'EDMUND BERNARD BRUYERE', 'JAMES \"JIMMY\" L. STROUD, JR.', 'RAHN V. WORKCUFF', 'BOB \"AGAIN\" CARNEY JR']\n"
     ]
    },
    {
     "data": {
      "text/plain": [
       "['BETSY HODGES',\n",
       " 'MARK ANDREW',\n",
       " 'DON SAMUELS',\n",
       " 'CAM WINTON',\n",
       " 'JACKIE CHERRYHOMES',\n",
       " 'BOB FINE',\n",
       " 'DAN COHEN',\n",
       " 'STEPHANIE WOODRUFF',\n",
       " 'MARK V ANDERSON',\n",
       " 'DOUG MANN',\n",
       " 'OLE SAVIOR',\n",
       " 'JAMES EVERETT',\n",
       " 'ALICIA K. BENNETT',\n",
       " 'ABDUL M RAHAMAN \"THE ROCK\"',\n",
       " 'CAPTAIN JACK SPARROW',\n",
       " 'CHRISTOPHER CLARK',\n",
       " 'TONY LANE',\n",
       " 'JAYMIE KELLY',\n",
       " 'MIKE GOULD',\n",
       " 'KURTIS W. HANNA',\n",
       " 'CHRISTOPHER ROBIN ZIMMERMAN',\n",
       " 'JEFFREY ALAN WAGNER',\n",
       " 'NEAL BAXTER',\n",
       " 'TROY BENJEGERDES',\n",
       " 'GREGG A. IVERSON',\n",
       " 'MERRILL ANDERSON',\n",
       " 'JOSHUA REA',\n",
       " 'BILL KAHN',\n",
       " 'JOHN LESLIE HARTWIG',\n",
       " 'EDMUND BERNARD BRUYERE',\n",
       " 'JAMES \"JIMMY\" L. STROUD, JR.',\n",
       " 'RAHN V. WORKCUFF',\n",
       " 'BOB \"AGAIN\" CARNEY JR']"
      ]
     },
     "execution_count": 5,
     "metadata": {},
     "output_type": "execute_result"
    }
   ],
   "source": [
    "mn_rcv = rcvElections(mn_ballot_lst, list(mn_cands), 1)\n",
    "##try to understand what the rcv elections is doing\n",
    "mn_irv = mn_rcv.rcv_run()\n",
    "#print(mn_irv)\n",
    "print(len(mn_irv))\n",
    "fringe_candidate_list = ['JOHN CHARLES WILSON', 'CYD GORMAN', ]\n",
    "\n",
    "for candidate in fringe_candidate_list:\n",
    "    if candidate in mn_irv:\n",
    "        mn_irv.remove(candidate)\n",
    "\n",
    "print(len(mn_irv))\n",
    "print(mn_irv)\n",
    "#gives rankings from top with most votes to bottom with least\n",
    "mn_irv_clean = []\n",
    "for cand in mn_irv:\n",
    "    if cand not in ['overvote', 'undervote', 'UWI']:\n",
    "        mn_irv_clean.append(cand)\n",
    "mn_irv_clean"
   ]
  },
  {
   "cell_type": "code",
   "execution_count": null,
   "id": "50e86ea8",
   "metadata": {},
   "outputs": [],
   "source": [
    "###get the fringe candidates \n",
    "# go back to regular ballots \n",
    "# some for loop that gets rid of the fringe candidates \n",
    "#ignore the one and do two as the base case \n",
    "#hypothesis: if you treat more that two fringe the same maybe that is when order changes????"
   ]
  },
  {
   "cell_type": "code",
   "execution_count": 7,
   "id": "d186e96f",
   "metadata": {},
   "outputs": [],
   "source": [
    "mn_ballots_alt = pd.read_csv('/Users/emariedelanuez/Downloads/minneopolis_data_stv.csv')"
   ]
  },
  {
   "cell_type": "code",
   "execution_count": 11,
   "id": "4fea51d4",
   "metadata": {},
   "outputs": [],
   "source": [
    "#only select the columns that matter\n",
    "mn_ballots_alt = mn_ballots_alt[mn_ballots_alt.columns[2:5]]\n",
    "mn_ballots_alt = mn_ballots_alt.replace('JOHN CHARLES WILSON', 'FRINGE')\n",
    "mn_ballots_alt = mn_ballots_alt.replace('CYD GORMAN', 'FRINGE')\n",
    "#Convert columns to list of lists one list is one voter\n",
    "mn_ballot_lst = mn_ballots_alt.values.tolist()\n",
    "#print(mn_ballots)\n",
    "#Generate list of unique candidates\n",
    "mn_cands = mn_ballots_alt[mn_ballots_alt.columns[0]].unique()\n"
   ]
  },
  {
   "cell_type": "code",
   "execution_count": 12,
   "id": "6721a2a0",
   "metadata": {},
   "outputs": [
    {
     "data": {
      "text/plain": [
       "False"
      ]
     },
     "execution_count": 12,
     "metadata": {},
     "output_type": "execute_result"
    }
   ],
   "source": [
    "'CYD GORMAN' in mn_cand"
   ]
  },
  {
   "cell_type": "code",
   "execution_count": 15,
   "id": "2f86d063",
   "metadata": {},
   "outputs": [
    {
     "data": {
      "text/plain": [
       "['DON SAMUELS',\n",
       " 'MARK ANDREW',\n",
       " 'JACKIE CHERRYHOMES',\n",
       " 'BETSY HODGES',\n",
       " 'BOB FINE',\n",
       " 'CAM WINTON',\n",
       " 'STEPHANIE WOODRUFF',\n",
       " 'DAN COHEN',\n",
       " 'CAPTAIN JACK SPARROW',\n",
       " 'DOUG MANN',\n",
       " 'MARK V ANDERSON',\n",
       " 'ALICIA K. BENNETT',\n",
       " 'JAMES EVERETT',\n",
       " 'OLE SAVIOR',\n",
       " 'MIKE GOULD',\n",
       " 'CHRISTOPHER CLARK',\n",
       " 'NEAL BAXTER',\n",
       " 'GREGG A. IVERSON',\n",
       " 'CHRISTOPHER ROBIN ZIMMERMAN',\n",
       " 'KURTIS W. HANNA',\n",
       " 'JAYMIE KELLY',\n",
       " 'TONY LANE',\n",
       " 'JEFFREY ALAN WAGNER',\n",
       " 'ABDUL M RAHAMAN \"THE ROCK\"',\n",
       " 'TROY BENJEGERDES',\n",
       " 'JOSHUA REA',\n",
       " 'JOHN LESLIE HARTWIG',\n",
       " 'FRINGE',\n",
       " 'MERRILL ANDERSON',\n",
       " 'BILL KAHN',\n",
       " 'BOB \"AGAIN\" CARNEY JR',\n",
       " 'RAHN V. WORKCUFF',\n",
       " 'JAMES \"JIMMY\" L. STROUD, JR.',\n",
       " 'EDMUND BERNARD BRUYERE']"
      ]
     },
     "execution_count": 15,
     "metadata": {},
     "output_type": "execute_result"
    }
   ],
   "source": [
    "mn_rcv = rcvElections(mn_ballot_lst, list(mn_cands), 1)\n",
    "##try to understand what the rcv elections is doing\n",
    "mn_irv = mn_rcv.rcv_run()\n",
    "\n",
    "for candidate in fringe_candidate_list:\n",
    "    if candidate in mn_irv:\n",
    "        mn_irv.remove(candidate)\n",
    "#gives rankings from top with most votes to bottom with least\n",
    "mn_irv_clean = []\n",
    "for cand in mn_irv:\n",
    "    if cand not in ['overvote', 'undervote', 'UWI']:\n",
    "        mn_irv_clean.append(cand)\n",
    "mn_irv_clean"
   ]
  },
  {
   "cell_type": "code",
   "execution_count": null,
   "id": "d07996ee",
   "metadata": {},
   "outputs": [],
   "source": [
    "['BETSY HODGES',\n",
    " 'MARK ANDREW',\n",
    " 'DON SAMUELS',\n",
    " 'CAM WINTON',\n",
    " 'JACKIE CHERRYHOMES',\n",
    " 'BOB FINE',\n",
    " 'DAN COHEN',\n",
    " 'STEPHANIE WOODRUFF',\n",
    " 'MARK V ANDERSON',\n",
    " 'DOUG MANN',\n",
    " 'OLE SAVIOR',\n",
    " 'JAMES EVERETT',\n",
    " 'ALICIA K. BENNETT',\n",
    " 'ABDUL M RAHAMAN \"THE ROCK\"',\n",
    " 'CAPTAIN JACK SPARROW',\n",
    " 'CHRISTOPHER CLARK',\n",
    " 'TONY LANE',\n",
    " 'JAYMIE KELLY',\n",
    " 'MIKE GOULD',\n",
    " 'KURTIS W. HANNA',\n",
    " 'CHRISTOPHER ROBIN ZIMMERMAN',\n",
    " 'JEFFREY ALAN WAGNER',\n",
    " 'NEAL BAXTER',\n",
    " 'TROY BENJEGERDES',\n",
    " 'GREGG A. IVERSON',\n",
    " 'MERRILL ANDERSON',\n",
    " 'JOSHUA REA',\n",
    " 'BILL KAHN',\n",
    " 'JOHN LESLIE HARTWIG',\n",
    " 'EDMUND BERNARD BRUYERE',\n",
    " 'JAMES \"JIMMY\" L. STROUD, JR.',\n",
    " 'RAHN V. WORKCUFF',\n",
    " 'BOB \"AGAIN\" CARNEY JR']\n"
   ]
  }
 ],
 "metadata": {
  "kernelspec": {
   "display_name": "Python 3 (ipykernel)",
   "language": "python",
   "name": "python3"
  },
  "language_info": {
   "codemirror_mode": {
    "name": "ipython",
    "version": 3
   },
   "file_extension": ".py",
   "mimetype": "text/x-python",
   "name": "python",
   "nbconvert_exporter": "python",
   "pygments_lexer": "ipython3",
   "version": "3.10.11"
  }
 },
 "nbformat": 4,
 "nbformat_minor": 5
}
